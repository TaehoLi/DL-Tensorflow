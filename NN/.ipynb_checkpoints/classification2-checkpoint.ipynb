{
 "cells": [
  {
   "cell_type": "code",
   "execution_count": 1,
   "metadata": {
    "colab": {},
    "colab_type": "code",
    "id": "GL2amJB36V9_"
   },
   "outputs": [],
   "source": [
    "import io\n",
    "import pandas as pd\n",
    "import numpy as np\n",
    "import tensorflow as tf\n",
    "import tensorflow as tf\n",
    "from tensorflow import keras\n",
    "from tensorflow.keras import layers\n",
    "import random"
   ]
  },
  {
   "cell_type": "code",
   "execution_count": 2,
   "metadata": {
    "colab": {},
    "colab_type": "code",
    "id": "aVSVm0gg6VLY"
   },
   "outputs": [],
   "source": [
    "infert = pd.read_csv('../data/infert.csv')\n",
    "X_data = infert[[\"parity\", \"induced\", \"spontaneous\"]]\n",
    "y_data = infert[\"case\"]"
   ]
  },
  {
   "cell_type": "code",
   "execution_count": 3,
   "metadata": {
    "colab": {},
    "colab_type": "code",
    "id": "QWDtrG9R7bXA"
   },
   "outputs": [],
   "source": [
    "tf.set_random_seed(123)\n",
    "train_idx = random.sample(list(range(len(infert))), int(len(infert) * 0.7 ))\n",
    "\n",
    "train_X = X_data.iloc[train_idx]\n",
    "train_y = y_data[train_idx]\n",
    "\n",
    "test_X = X_data.drop(train_idx)\n",
    "test_y = y_data.drop(train_idx)"
   ]
  },
  {
   "cell_type": "code",
   "execution_count": 4,
   "metadata": {
    "colab": {
     "base_uri": "https://localhost:8080/",
     "height": 246
    },
    "colab_type": "code",
    "executionInfo": {
     "elapsed": 707,
     "status": "ok",
     "timestamp": 1549880825038,
     "user": {
      "displayName": "BONGGEUN CHOI",
      "photoUrl": "",
      "userId": "13192430529567238042"
     },
     "user_tz": -540
    },
    "id": "bE9riUYQ7c2X",
    "outputId": "94d23fac-854b-409c-e037-130114565a17"
   },
   "outputs": [
    {
     "name": "stdout",
     "output_type": "stream",
     "text": [
      "WARNING:tensorflow:From C:\\Users\\my\\Anaconda3\\lib\\site-packages\\tensorflow\\python\\ops\\resource_variable_ops.py:435: colocate_with (from tensorflow.python.framework.ops) is deprecated and will be removed in a future version.\n",
      "Instructions for updating:\n",
      "Colocations handled automatically by placer.\n",
      "_________________________________________________________________\n",
      "Layer (type)                 Output Shape              Param #   \n",
      "=================================================================\n",
      "dense (Dense)                (None, 3)                 12        \n",
      "_________________________________________________________________\n",
      "dense_1 (Dense)              (None, 1)                 4         \n",
      "_________________________________________________________________\n",
      "dense_2 (Dense)              (None, 1)                 2         \n",
      "=================================================================\n",
      "Total params: 18\n",
      "Trainable params: 18\n",
      "Non-trainable params: 0\n",
      "_________________________________________________________________\n"
     ]
    }
   ],
   "source": [
    "## 모델 생성 ###\n",
    "\n",
    "model = keras.Sequential([\n",
    "    layers.Dense(3, activation=tf.nn.relu, input_shape = [train_X.shape[1]]),\n",
    "    layers.Dense(1, activation=tf.nn.relu),\n",
    "    layers.Dense(1, activation=tf.nn.sigmoid)\n",
    "])\n",
    "\n",
    "model.compile(optimizer='adam', \n",
    "              loss='binary_crossentropy',\n",
    "              metrics=['accuracy'])\n",
    "\n",
    "model.summary()"
   ]
  },
  {
   "cell_type": "code",
   "execution_count": 5,
   "metadata": {
    "colab": {
     "base_uri": "https://localhost:8080/",
     "height": 3554
    },
    "colab_type": "code",
    "executionInfo": {
     "elapsed": 3461,
     "status": "ok",
     "timestamp": 1549880828107,
     "user": {
      "displayName": "BONGGEUN CHOI",
      "photoUrl": "",
      "userId": "13192430529567238042"
     },
     "user_tz": -540
    },
    "id": "urHRWDaMCU7X",
    "outputId": "9dca1a49-4aaa-495b-cf53-aa0746fb7607"
   },
   "outputs": [
    {
     "name": "stdout",
     "output_type": "stream",
     "text": [
      "WARNING:tensorflow:From C:\\Users\\my\\Anaconda3\\lib\\site-packages\\tensorflow\\python\\ops\\math_ops.py:3066: to_int32 (from tensorflow.python.ops.math_ops) is deprecated and will be removed in a future version.\n",
      "Instructions for updating:\n",
      "Use tf.cast instead.\n",
      "Epoch 1/100\n",
      "173/173 [==============================] - 1s 7ms/sample - loss: 0.6928 - acc: 0.6879\n",
      "Epoch 2/100\n",
      "173/173 [==============================] - 0s 92us/sample - loss: 0.6918 - acc: 0.6879\n",
      "Epoch 3/100\n",
      "173/173 [==============================] - 0s 92us/sample - loss: 0.6907 - acc: 0.6879\n",
      "Epoch 4/100\n",
      "173/173 [==============================] - 0s 92us/sample - loss: 0.6897 - acc: 0.6879\n",
      "Epoch 5/100\n",
      "173/173 [==============================] - 0s 81us/sample - loss: 0.6887 - acc: 0.6879\n",
      "Epoch 6/100\n",
      "173/173 [==============================] - 0s 92us/sample - loss: 0.6877 - acc: 0.6879\n",
      "Epoch 7/100\n",
      "173/173 [==============================] - 0s 86us/sample - loss: 0.6867 - acc: 0.6879\n",
      "Epoch 8/100\n",
      "173/173 [==============================] - 0s 98us/sample - loss: 0.6857 - acc: 0.6879\n",
      "Epoch 9/100\n",
      "173/173 [==============================] - 0s 98us/sample - loss: 0.6847 - acc: 0.6879\n",
      "Epoch 10/100\n",
      "173/173 [==============================] - 0s 86us/sample - loss: 0.6837 - acc: 0.6879\n",
      "Epoch 11/100\n",
      "173/173 [==============================] - 0s 86us/sample - loss: 0.6829 - acc: 0.6879\n",
      "Epoch 12/100\n",
      "173/173 [==============================] - 0s 98us/sample - loss: 0.6819 - acc: 0.6879\n",
      "Epoch 13/100\n",
      "173/173 [==============================] - 0s 92us/sample - loss: 0.6810 - acc: 0.6879\n",
      "Epoch 14/100\n",
      "173/173 [==============================] - 0s 92us/sample - loss: 0.6801 - acc: 0.6879\n",
      "Epoch 15/100\n",
      "173/173 [==============================] - 0s 81us/sample - loss: 0.6792 - acc: 0.6879\n",
      "Epoch 16/100\n",
      "173/173 [==============================] - 0s 81us/sample - loss: 0.6784 - acc: 0.6879\n",
      "Epoch 17/100\n",
      "173/173 [==============================] - 0s 81us/sample - loss: 0.6776 - acc: 0.6879\n",
      "Epoch 18/100\n",
      "173/173 [==============================] - 0s 98us/sample - loss: 0.6768 - acc: 0.6879\n",
      "Epoch 19/100\n",
      "173/173 [==============================] - 0s 86us/sample - loss: 0.6759 - acc: 0.6879\n",
      "Epoch 20/100\n",
      "173/173 [==============================] - 0s 81us/sample - loss: 0.6751 - acc: 0.6879\n",
      "Epoch 21/100\n",
      "173/173 [==============================] - 0s 81us/sample - loss: 0.6743 - acc: 0.6879\n",
      "Epoch 22/100\n",
      "173/173 [==============================] - 0s 81us/sample - loss: 0.6735 - acc: 0.6879\n",
      "Epoch 23/100\n",
      "173/173 [==============================] - 0s 92us/sample - loss: 0.6727 - acc: 0.6879\n",
      "Epoch 24/100\n",
      "173/173 [==============================] - 0s 92us/sample - loss: 0.6719 - acc: 0.6879\n",
      "Epoch 25/100\n",
      "173/173 [==============================] - 0s 98us/sample - loss: 0.6710 - acc: 0.6879\n",
      "Epoch 26/100\n",
      "173/173 [==============================] - 0s 92us/sample - loss: 0.6701 - acc: 0.6879\n",
      "Epoch 27/100\n",
      "173/173 [==============================] - 0s 86us/sample - loss: 0.6694 - acc: 0.6879\n",
      "Epoch 28/100\n",
      "173/173 [==============================] - 0s 115us/sample - loss: 0.6686 - acc: 0.6879\n",
      "Epoch 29/100\n",
      "173/173 [==============================] - 0s 92us/sample - loss: 0.6679 - acc: 0.6879\n",
      "Epoch 30/100\n",
      "173/173 [==============================] - 0s 86us/sample - loss: 0.6672 - acc: 0.6879\n",
      "Epoch 31/100\n",
      "173/173 [==============================] - 0s 81us/sample - loss: 0.6664 - acc: 0.6879\n",
      "Epoch 32/100\n",
      "173/173 [==============================] - 0s 86us/sample - loss: 0.6658 - acc: 0.6879\n",
      "Epoch 33/100\n",
      "173/173 [==============================] - 0s 86us/sample - loss: 0.6652 - acc: 0.6879\n",
      "Epoch 34/100\n",
      "173/173 [==============================] - 0s 86us/sample - loss: 0.6645 - acc: 0.6879\n",
      "Epoch 35/100\n",
      "173/173 [==============================] - 0s 104us/sample - loss: 0.6638 - acc: 0.6879\n",
      "Epoch 36/100\n",
      "173/173 [==============================] - 0s 86us/sample - loss: 0.6631 - acc: 0.6879\n",
      "Epoch 37/100\n",
      "173/173 [==============================] - 0s 86us/sample - loss: 0.6624 - acc: 0.6879\n",
      "Epoch 38/100\n",
      "173/173 [==============================] - 0s 104us/sample - loss: 0.6618 - acc: 0.6879\n",
      "Epoch 39/100\n",
      "173/173 [==============================] - 0s 104us/sample - loss: 0.6611 - acc: 0.6879\n",
      "Epoch 40/100\n",
      "173/173 [==============================] - 0s 98us/sample - loss: 0.6604 - acc: 0.6879\n",
      "Epoch 41/100\n",
      "173/173 [==============================] - 0s 104us/sample - loss: 0.6598 - acc: 0.6879\n",
      "Epoch 42/100\n",
      "173/173 [==============================] - 0s 92us/sample - loss: 0.6591 - acc: 0.6879\n",
      "Epoch 43/100\n",
      "173/173 [==============================] - 0s 110us/sample - loss: 0.6585 - acc: 0.6879\n",
      "Epoch 44/100\n",
      "173/173 [==============================] - 0s 127us/sample - loss: 0.6578 - acc: 0.6879\n",
      "Epoch 45/100\n",
      "173/173 [==============================] - 0s 121us/sample - loss: 0.6572 - acc: 0.6879\n",
      "Epoch 46/100\n",
      "173/173 [==============================] - 0s 92us/sample - loss: 0.6566 - acc: 0.6879\n",
      "Epoch 47/100\n",
      "173/173 [==============================] - 0s 92us/sample - loss: 0.6561 - acc: 0.6879\n",
      "Epoch 48/100\n",
      "173/173 [==============================] - 0s 86us/sample - loss: 0.6556 - acc: 0.6879\n",
      "Epoch 49/100\n",
      "173/173 [==============================] - 0s 110us/sample - loss: 0.6549 - acc: 0.6879\n",
      "Epoch 50/100\n",
      "173/173 [==============================] - 0s 98us/sample - loss: 0.6544 - acc: 0.6879\n",
      "Epoch 51/100\n",
      "173/173 [==============================] - 0s 81us/sample - loss: 0.6540 - acc: 0.6879\n",
      "Epoch 52/100\n",
      "173/173 [==============================] - 0s 81us/sample - loss: 0.6534 - acc: 0.6879\n",
      "Epoch 53/100\n",
      "173/173 [==============================] - 0s 86us/sample - loss: 0.6528 - acc: 0.6879\n",
      "Epoch 54/100\n",
      "173/173 [==============================] - 0s 98us/sample - loss: 0.6524 - acc: 0.6879\n",
      "Epoch 55/100\n",
      "173/173 [==============================] - 0s 104us/sample - loss: 0.6519 - acc: 0.6879\n",
      "Epoch 56/100\n",
      "173/173 [==============================] - 0s 75us/sample - loss: 0.6514 - acc: 0.6879\n",
      "Epoch 57/100\n",
      "173/173 [==============================] - 0s 81us/sample - loss: 0.6508 - acc: 0.6879\n",
      "Epoch 58/100\n",
      "173/173 [==============================] - 0s 81us/sample - loss: 0.6504 - acc: 0.6879\n",
      "Epoch 59/100\n",
      "173/173 [==============================] - 0s 75us/sample - loss: 0.6499 - acc: 0.6879\n",
      "Epoch 60/100\n",
      "173/173 [==============================] - 0s 81us/sample - loss: 0.6495 - acc: 0.6879\n",
      "Epoch 61/100\n",
      "173/173 [==============================] - 0s 81us/sample - loss: 0.6490 - acc: 0.6879\n",
      "Epoch 62/100\n",
      "173/173 [==============================] - 0s 81us/sample - loss: 0.6485 - acc: 0.6879\n",
      "Epoch 63/100\n",
      "173/173 [==============================] - 0s 81us/sample - loss: 0.6481 - acc: 0.6879\n",
      "Epoch 64/100\n",
      "173/173 [==============================] - 0s 75us/sample - loss: 0.6477 - acc: 0.6879\n",
      "Epoch 65/100\n",
      "173/173 [==============================] - 0s 81us/sample - loss: 0.6473 - acc: 0.6879\n",
      "Epoch 66/100\n",
      "173/173 [==============================] - 0s 86us/sample - loss: 0.6469 - acc: 0.6879\n",
      "Epoch 67/100\n",
      "173/173 [==============================] - 0s 81us/sample - loss: 0.6464 - acc: 0.6879\n",
      "Epoch 68/100\n",
      "173/173 [==============================] - 0s 81us/sample - loss: 0.6459 - acc: 0.6879\n",
      "Epoch 69/100\n",
      "173/173 [==============================] - 0s 81us/sample - loss: 0.6455 - acc: 0.6879\n",
      "Epoch 70/100\n",
      "173/173 [==============================] - 0s 81us/sample - loss: 0.6450 - acc: 0.6879\n",
      "Epoch 71/100\n",
      "173/173 [==============================] - 0s 81us/sample - loss: 0.6446 - acc: 0.6879\n",
      "Epoch 72/100\n",
      "173/173 [==============================] - 0s 86us/sample - loss: 0.6442 - acc: 0.6879\n",
      "Epoch 73/100\n",
      "173/173 [==============================] - 0s 86us/sample - loss: 0.6438 - acc: 0.6879\n",
      "Epoch 74/100\n",
      "173/173 [==============================] - 0s 81us/sample - loss: 0.6433 - acc: 0.6879\n",
      "Epoch 75/100\n",
      "173/173 [==============================] - 0s 86us/sample - loss: 0.6429 - acc: 0.6879\n",
      "Epoch 76/100\n",
      "173/173 [==============================] - 0s 81us/sample - loss: 0.6425 - acc: 0.6879\n",
      "Epoch 77/100\n",
      "173/173 [==============================] - 0s 81us/sample - loss: 0.6421 - acc: 0.6879\n",
      "Epoch 78/100\n",
      "173/173 [==============================] - 0s 81us/sample - loss: 0.6416 - acc: 0.6879\n",
      "Epoch 79/100\n",
      "173/173 [==============================] - 0s 81us/sample - loss: 0.6413 - acc: 0.6879\n",
      "Epoch 80/100\n",
      "173/173 [==============================] - 0s 86us/sample - loss: 0.6410 - acc: 0.6879\n",
      "Epoch 81/100\n",
      "173/173 [==============================] - 0s 86us/sample - loss: 0.6405 - acc: 0.6879\n",
      "Epoch 82/100\n",
      "173/173 [==============================] - 0s 81us/sample - loss: 0.6403 - acc: 0.6879\n",
      "Epoch 83/100\n",
      "173/173 [==============================] - 0s 81us/sample - loss: 0.6399 - acc: 0.6879\n",
      "Epoch 84/100\n",
      "173/173 [==============================] - 0s 81us/sample - loss: 0.6396 - acc: 0.6879\n",
      "Epoch 85/100\n",
      "173/173 [==============================] - 0s 81us/sample - loss: 0.6392 - acc: 0.6879\n",
      "Epoch 86/100\n",
      "173/173 [==============================] - 0s 81us/sample - loss: 0.6388 - acc: 0.6879\n",
      "Epoch 87/100\n",
      "173/173 [==============================] - 0s 81us/sample - loss: 0.6386 - acc: 0.6879\n",
      "Epoch 88/100\n",
      "173/173 [==============================] - 0s 81us/sample - loss: 0.6383 - acc: 0.6879\n",
      "Epoch 89/100\n",
      "173/173 [==============================] - 0s 86us/sample - loss: 0.6379 - acc: 0.6879\n",
      "Epoch 90/100\n",
      "173/173 [==============================] - 0s 75us/sample - loss: 0.6377 - acc: 0.6879\n",
      "Epoch 91/100\n",
      "173/173 [==============================] - 0s 86us/sample - loss: 0.6374 - acc: 0.6879\n",
      "Epoch 92/100\n",
      "173/173 [==============================] - 0s 92us/sample - loss: 0.6371 - acc: 0.6879\n",
      "Epoch 93/100\n",
      "173/173 [==============================] - 0s 86us/sample - loss: 0.6369 - acc: 0.6879\n",
      "Epoch 94/100\n",
      "173/173 [==============================] - 0s 86us/sample - loss: 0.6366 - acc: 0.6879\n",
      "Epoch 95/100\n",
      "173/173 [==============================] - 0s 86us/sample - loss: 0.6363 - acc: 0.6879\n",
      "Epoch 96/100\n",
      "173/173 [==============================] - 0s 86us/sample - loss: 0.6360 - acc: 0.6879\n",
      "Epoch 97/100\n",
      "173/173 [==============================] - 0s 81us/sample - loss: 0.6359 - acc: 0.6879\n",
      "Epoch 98/100\n",
      "173/173 [==============================] - 0s 81us/sample - loss: 0.6355 - acc: 0.6879\n",
      "Epoch 99/100\n",
      "173/173 [==============================] - 0s 81us/sample - loss: 0.6353 - acc: 0.6879\n",
      "Epoch 100/100\n",
      "173/173 [==============================] - 0s 81us/sample - loss: 0.6350 - acc: 0.6879\n"
     ]
    },
    {
     "data": {
      "text/plain": [
       "<tensorflow.python.keras.callbacks.History at 0x2b5de92dd30>"
      ]
     },
     "execution_count": 5,
     "metadata": {},
     "output_type": "execute_result"
    }
   ],
   "source": [
    "## 모델 훈련 ####\n",
    "\n",
    "model.fit(train_X, train_y, epochs = 100)"
   ]
  },
  {
   "cell_type": "code",
   "execution_count": 7,
   "metadata": {
    "colab": {
     "base_uri": "https://localhost:8080/",
     "height": 52
    },
    "colab_type": "code",
    "executionInfo": {
     "elapsed": 769,
     "status": "ok",
     "timestamp": 1549880839452,
     "user": {
      "displayName": "BONGGEUN CHOI",
      "photoUrl": "",
      "userId": "13192430529567238042"
     },
     "user_tz": -540
    },
    "id": "FKJMozTICMGX",
    "outputId": "b014d443-9993-400d-e43f-c4e6c861cb7f"
   },
   "outputs": [
    {
     "name": "stdout",
     "output_type": "stream",
     "text": [
      "75/75 [==============================] - 0s 66us/sample - loss: 0.6673 - acc: 0.6133\n",
      "Test accuracy: 0.61333334\n"
     ]
    }
   ],
   "source": [
    "## 모델 예측 ####\n",
    "\n",
    "predictions = model.predict(test_X)\n",
    "test_loss, test_acc = model.evaluate(test_X, test_y)\n",
    "print('Test accuracy:', test_acc)"
   ]
  },
  {
   "cell_type": "code",
   "execution_count": null,
   "metadata": {
    "colab": {},
    "colab_type": "code",
    "id": "_NuUK0jCGJgZ"
   },
   "outputs": [],
   "source": []
  }
 ],
 "metadata": {
  "colab": {
   "name": "logistic_regression_kears.ipynb",
   "provenance": [],
   "version": "0.3.2"
  },
  "kernelspec": {
   "display_name": "Python 3",
   "language": "python",
   "name": "python3"
  },
  "language_info": {
   "codemirror_mode": {
    "name": "ipython",
    "version": 3
   },
   "file_extension": ".py",
   "mimetype": "text/x-python",
   "name": "python",
   "nbconvert_exporter": "python",
   "pygments_lexer": "ipython3",
   "version": "3.7.3"
  }
 },
 "nbformat": 4,
 "nbformat_minor": 2
}
