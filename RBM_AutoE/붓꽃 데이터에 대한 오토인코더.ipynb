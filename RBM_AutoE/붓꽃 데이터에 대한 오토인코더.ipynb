{
 "cells": [
  {
   "cell_type": "code",
   "execution_count": 1,
   "metadata": {},
   "outputs": [
    {
     "name": "stdout",
     "output_type": "stream",
     "text": [
      "WARNING:tensorflow:From <ipython-input-1-d5c88e1c8c0d>:34: dense (from tensorflow.python.layers.core) is deprecated and will be removed in a future version.\n",
      "Instructions for updating:\n",
      "Use keras.layers.dense instead.\n",
      "WARNING:tensorflow:From C:\\Users\\my\\Anaconda3\\lib\\site-packages\\tensorflow\\python\\framework\\op_def_library.py:263: colocate_with (from tensorflow.python.framework.ops) is deprecated and will be removed in a future version.\n",
      "Instructions for updating:\n",
      "Colocations handled automatically by placer.\n"
     ]
    },
    {
     "data": {
      "image/png": "[encoded data removed]",
      "text/plain": [
       "<Figure size 432x288 with 1 Axes>"
      ]
     },
     "metadata": {
      "needs_background": "light"
     },
     "output_type": "display_data"
    }
   ],
   "source": [
    "\"\"\"\n",
    "예제 3-4: Autoencoder를 iris 데이터에 적용\n",
    "\"\"\"\n",
    "\n",
    "## 필요한 라이브러리를 불러들임 \n",
    "import tensorflow as tf\n",
    "import numpy as np\n",
    "import pandas as pd\n",
    "import matplotlib.pyplot as plt\n",
    "%matplotlib inline\n",
    "\n",
    "## iris 데이터 불러오기\n",
    "url='https://raw.githubusercontent.com/uiuc-cse/data-fa14/gh-pages/data/iris.csv'\n",
    "iris = pd.read_csv(url)\n",
    "\n",
    "## iris 데이터를 입력 데이터와 출력 데이터로 분리        \n",
    "irisX = np.array(iris.iloc[:,:4])\n",
    "irisY = iris.iloc[:,4]   \n",
    "\n",
    "## 입력 데이터의 min-max 정규화 \n",
    "minmax = np.amin(irisX, 0), np.amax(irisX, 0)\n",
    "no_irisX = (irisX-minmax[0])/(minmax[1]-minmax[0])\n",
    "\n",
    "## 학습관련 매개변수 설정 \n",
    "n_input     = 4\n",
    "n_hidden    = 2  \n",
    "n_output = n_input\n",
    "learning_rate = 0.01\n",
    "n_class = 3\n",
    "num_epoch = 1000\n",
    "\n",
    "## 오토인코더 구축 및 계산\n",
    "X = tf.placeholder(tf.float32, shape=[None, n_input])\n",
    "hidden = tf.layers.dense(X, n_hidden, activation=None)\n",
    "output = tf.layers.dense(hidden, n_output, activation=None)\n",
    "\n",
    "reconstruction_loss = tf.reduce_mean(tf.square(output - X))\n",
    "optimizer = tf.train.AdamOptimizer(learning_rate)\n",
    "training_op = optimizer.minimize(reconstruction_loss)\n",
    "\n",
    "codings = hidden\n",
    "\n",
    "## 텐서플로 그래프 실행\n",
    "with tf.Session() as sess:\n",
    "    init = tf.global_variables_initializer()\n",
    "    sess.run(init)\n",
    "\n",
    "    # 학습 시작  \n",
    "    for iteration in range(num_epoch):\n",
    "        training_op.run(feed_dict={X: no_irisX})\n",
    "    \n",
    "    codings_val = codings.eval(feed_dict={X: no_irisX})\n",
    "\n",
    "## 오토인코더 은닉노드의 값 산점도\n",
    "plt.scatter(codings_val[np.where(irisY=='setosa')[0], 0], codings_val[np.where(irisY=='setosa')[0], 1], color = 'red')\n",
    "plt.scatter(codings_val[np.where(irisY=='virginica')[0], 0], codings_val[np.where(irisY=='virginica')[0], 1], color = 'blue')\n",
    "plt.scatter(codings_val[np.where(irisY=='versicolor')[0], 0], codings_val[np.where(irisY=='versicolor')[0], 1],\n",
    "            color = 'black')\n",
    "plt.xlabel(\"$z_1$\", fontsize=16)\n",
    "plt.ylabel(\"$z_2$\", fontsize=16, rotation=0)\n",
    "plt.show()"
   ]
  },
  {
   "cell_type": "code",
   "execution_count": null,
   "metadata": {},
   "outputs": [],
   "source": []
  }
 ],
 "metadata": {
  "kernelspec": {
   "display_name": "Python 3",
   "language": "python",
   "name": "python3"
  },
  "language_info": {
   "codemirror_mode": {
    "name": "ipython",
    "version": 3
   },
   "file_extension": ".py",
   "mimetype": "text/x-python",
   "name": "python",
   "nbconvert_exporter": "python",
   "pygments_lexer": "ipython3",
   "version": "3.7.3"
  }
 },
 "nbformat": 4,
 "nbformat_minor": 2
}
